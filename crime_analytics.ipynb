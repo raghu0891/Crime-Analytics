{
 "cells": [
  {
   "cell_type": "code",
   "execution_count": null,
   "metadata": {
    "collapsed": true
   },
   "outputs": [],
   "source": [
    "library(\"ggplot2\")\n",
    "\n",
    "san1 <- read.csv(\"sanfrancisco_incidents_summer_2014.csv\", header = TRUE, stringsAsFactors = FALSE)\n",
    "sea1 <- read.csv(\"seattle_incidents_summer_2014.csv\", header = TRUE, na.strings = \"\", stringsAsFactors = FALSE)\n",
    "\n",
    "sandata <- san1[,c(\"Category\", \"Date\", \"Time\")]\n",
    "names(sandata) <- c(\"Category\", \"DateTS\", \"Time\")\n",
    "sandata$Category <- as.character(sandata$Category)\n",
    "sandata$DateTS <- as.character(sandata$DateTS)\n",
    "sandata$Time <- as.character(sandata$Time)\n",
    "\n",
    "sandata$DateTS <- paste(sandata$DateTS,sandata$Time)\n",
    "sandata$DateTS <- as.POSIXct(sandata$DateTS, tz=\"US/Pacific\", format = \"%m/%d/%Y %H:%M\")\n",
    "sandata$Date <- as.Date(as.POSIXct(sandata$DateTS, tz=\"US/Pacific\"), tz=\"US/Pacific\")\n",
    "sandata$Year <- as.integer(format(sandata$DateTS, \"%Y\"))\n",
    "sandata$Month <- as.integer(format(sandata$DateTS, \"%m\"))\n",
    "sandata <- sandata[,c(\"Category\", \"DateTS\", \"Year\", \"Month\", \"Date\")]\n",
    "sandata$City <- \"San Francisco\"\n",
    "\n",
    "seadata <- sea1[,c(\"Summarized.Offense.Description\", \"Occurred.Date.or.Date.Range.Start\", \"Year\", \"Month\")]\n",
    "names(seadata) <- c(\"Category\", \"DateTS\", \"Year\", \"Month\")\n",
    "\n",
    "seadata$Category <- as.character(seadata$Category)\n",
    "seadata$DateTS <- as.character(seadata$DateTS)\n",
    "seadata$DateTS <- as.POSIXct(seadata$DateTS, tz=\"US/Pacific\", format = \"%m/%d/%Y %H:%M:%S %p\")\n",
    "seadata$Date <- as.Date(as.POSIXct(seadata$DateTS, tz=\"US/Pacific\"), tz=\"US/Pacific\")\n",
    "seadata <- seadata[,c(\"Category\", \"DateTS\", \"Year\", \"Month\", \"Date\")]\n",
    "seadata$City <- \"Seattle\"\n",
    "summary(sandata)\n",
    "summary(seadata)"
   ]
  }
 ],
 "metadata": {
  "kernelspec": {
   "display_name": "Python 2",
   "language": "python",
   "name": "python2"
  },
  "language_info": {
   "codemirror_mode": {
    "name": "ipython",
    "version": 2
   },
   "file_extension": ".py",
   "mimetype": "text/x-python",
   "name": "python",
   "nbconvert_exporter": "python",
   "pygments_lexer": "ipython2",
   "version": "2.7.10"
  }
 },
 "nbformat": 4,
 "nbformat_minor": 0
}
